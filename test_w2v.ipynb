{
 "cells": [
  {
   "cell_type": "code",
   "execution_count": 1,
   "metadata": {
    "collapsed": true
   },
   "outputs": [],
   "source": [
    "from gensim.models import word2vec\n",
    "model = word2vec.Word2Vec.load('MediaCloud_w2v')"
   ]
  },
  {
   "cell_type": "code",
   "execution_count": 4,
   "metadata": {
    "collapsed": false
   },
   "outputs": [
    {
     "data": {
      "text/plain": [
       "[('charlie', 0.8451075553894043),\n",
       " ('satírico', 0.8081789612770081),\n",
       " ('semanário', 0.7629622220993042),\n",
       " ('satírica', 0.7491675615310669),\n",
       " ('atentado', 0.6875872611999512),\n",
       " ('revista', 0.6757416725158691),\n",
       " ('charb', 0.6406008005142212),\n",
       " ('maomé', 0.6325897574424744),\n",
       " ('francesa', 0.6181177496910095),\n",
       " ('profeta', 0.6083803176879883)]"
      ]
     },
     "execution_count": 4,
     "metadata": {},
     "output_type": "execute_result"
    }
   ],
   "source": [
    "model.most_similar(u'hebdo')"
   ]
  },
  {
   "cell_type": "code",
   "execution_count": 20,
   "metadata": {
    "collapsed": false
   },
   "outputs": [
    {
     "data": {
      "text/plain": [
       "[('bahia', 0.8407610654830933),\n",
       " ('sergipe', 0.7898809313774109),\n",
       " ('piauí', 0.7889173626899719),\n",
       " ('alagoas', 0.7864851951599121),\n",
       " ('uneb', 0.7724090218544006),\n",
       " ('ceará', 0.7528650164604187),\n",
       " ('amapá', 0.745849609375),\n",
       " ('maranhão', 0.7396734952926636),\n",
       " ('amazonas', 0.7360352277755737),\n",
       " ('ufsb', 0.729607343673706)]"
      ]
     },
     "execution_count": 20,
     "metadata": {},
     "output_type": "execute_result"
    }
   ],
   "source": [
    "model.most_similar_cosmul(positive=['salvador', 'pernambuco'], negative=['recife'])"
   ]
  },
  {
   "cell_type": "code",
   "execution_count": 24,
   "metadata": {
    "collapsed": false
   },
   "outputs": [
    {
     "data": {
      "text/plain": [
       "[('presidenta', 0.92649245262146),\n",
       " ('reeleita', 0.8576658964157104),\n",
       " ('governo', 0.8566299676895142),\n",
       " ('martelly', 0.8450942635536194),\n",
       " ('rousseff', 0.8247494101524353),\n",
       " ('sancionar', 0.8244077563285828),\n",
       " ('congresso', 0.8205299377441406),\n",
       " ('sancionou', 0.818592369556427),\n",
       " ('discurso', 0.8168356418609619),\n",
       " ('renúncia', 0.8155430555343628)]"
      ]
     },
     "execution_count": 24,
     "metadata": {},
     "output_type": "execute_result"
    }
   ],
   "source": [
    "model.most_similar_cosmul(positive=['dilma','presidente'], negative=['lula'])"
   ]
  },
  {
   "cell_type": "code",
   "execution_count": null,
   "metadata": {
    "collapsed": true
   },
   "outputs": [],
   "source": []
  }
 ],
 "metadata": {
  "kernelspec": {
   "display_name": "Python 3",
   "language": "python",
   "name": "python3"
  },
  "language_info": {
   "codemirror_mode": {
    "name": "ipython",
    "version": 3
   },
   "file_extension": ".py",
   "mimetype": "text/x-python",
   "name": "python",
   "nbconvert_exporter": "python",
   "pygments_lexer": "ipython3",
   "version": "3.4.3"
  }
 },
 "nbformat": 4,
 "nbformat_minor": 0
}
