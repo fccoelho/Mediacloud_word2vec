{
 "cells": [
  {
   "cell_type": "code",
   "execution_count": 1,
   "metadata": {
    "collapsed": true
   },
   "outputs": [],
   "source": [
    "from gensim.models import word2vec\n",
    "model = word2vec.Word2Vec.load('MediaCloud_w2v')"
   ]
  },
  {
   "cell_type": "code",
   "execution_count": 4,
   "metadata": {
    "collapsed": false
   },
   "outputs": [
    {
     "data": {
      "text/plain": [
       "[('charlie', 0.8451075553894043),\n",
       " ('satírico', 0.8081789612770081),\n",
       " ('semanário', 0.7629622220993042),\n",
       " ('satírica', 0.7491675615310669),\n",
       " ('atentado', 0.6875872611999512),\n",
       " ('revista', 0.6757416725158691),\n",
       " ('charb', 0.6406008005142212),\n",
       " ('maomé', 0.6325897574424744),\n",
       " ('francesa', 0.6181177496910095),\n",
       " ('profeta', 0.6083803176879883)]"
      ]
     },
     "execution_count": 4,
     "metadata": {},
     "output_type": "execute_result"
    }
   ],
   "source": [
    "model.most_similar(u'hebdo')"
   ]
  },
  {
   "cell_type": "code",
   "execution_count": 20,
   "metadata": {
    "collapsed": false
   },
   "outputs": [
    {
     "data": {
      "text/plain": [
       "[('bahia', 0.8407610654830933),\n",
       " ('sergipe', 0.7898809313774109),\n",
       " ('piauí', 0.7889173626899719),\n",
       " ('alagoas', 0.7864851951599121),\n",
       " ('uneb', 0.7724090218544006),\n",
       " ('ceará', 0.7528650164604187),\n",
       " ('amapá', 0.745849609375),\n",
       " ('maranhão', 0.7396734952926636),\n",
       " ('amazonas', 0.7360352277755737),\n",
       " ('ufsb', 0.729607343673706)]"
      ]
     },
     "execution_count": 20,
     "metadata": {},
     "output_type": "execute_result"
    }
   ],
   "source": [
    "model.most_similar_cosmul(positive=['salvador', 'pernambuco'], negative=['recife'])"
   ]
  },
  {
   "cell_type": "code",
   "execution_count": 21,
   "metadata": {
    "collapsed": false
   },
   "outputs": [
    {
     "data": {
      "text/plain": [
       "[('presidenta', 0.8360803127288818),\n",
       " ('reeleita', 0.758423924446106),\n",
       " ('roussef', 0.7017211318016052),\n",
       " ('governo', 0.6361496448516846),\n",
       " ('rouseff', 0.6232695579528809),\n",
       " ('sancionou', 0.619581401348114),\n",
       " ('mandato', 0.6084883213043213),\n",
       " ('discurso', 0.5990076065063477),\n",
       " ('congresso', 0.5989664793014526),\n",
       " ('martelly', 0.5918704271316528)]"
      ]
     },
     "execution_count": 21,
     "metadata": {},
     "output_type": "execute_result"
    }
   ],
   "source": [
    "model.most_similar_cosmul(positive=['presidente', 'dilma','rousseff'], negative=['lula'])"
   ]
  },
  {
   "cell_type": "code",
   "execution_count": null,
   "metadata": {
    "collapsed": true
   },
   "outputs": [],
   "source": []
  }
 ],
 "metadata": {
  "kernelspec": {
   "display_name": "Python 3",
   "language": "python",
   "name": "python3"
  },
  "language_info": {
   "codemirror_mode": {
    "name": "ipython",
    "version": 3
   },
   "file_extension": ".py",
   "mimetype": "text/x-python",
   "name": "python",
   "nbconvert_exporter": "python",
   "pygments_lexer": "ipython3",
   "version": "3.4.3"
  }
 },
 "nbformat": 4,
 "nbformat_minor": 0
}
