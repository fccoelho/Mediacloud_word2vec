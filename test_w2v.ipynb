{
 "cells": [
  {
   "cell_type": "code",
   "execution_count": 6,
   "metadata": {},
   "outputs": [],
   "source": [
    "from gensim.models import word2vec\n",
    "model = word2vec.Word2Vec.load('MediaCloud_w2v')"
   ]
  },
  {
   "cell_type": "code",
   "execution_count": 13,
   "metadata": {},
   "outputs": [
    {
     "data": {
      "text/plain": [
       "[(u'ladeiras', 0.2441970705986023),\n",
       " (u'nebuloso', 0.23455768823623657),\n",
       " (u'haidar', 0.2334243357181549),\n",
       " (u'709', 0.23299361765384674),\n",
       " (u'endurance', 0.2271127551794052),\n",
       " (u'exchanges', 0.22017380595207214),\n",
       " (u'/>.<', 0.21942242980003357),\n",
       " (u'pejuang', 0.21759599447250366),\n",
       " (u'euroc\\xe9ticos', 0.2155999392271042),\n",
       " (u'ciccr', 0.21483956277370453)]"
      ]
     },
     "execution_count": 13,
     "output_type": "execute_result",
     "metadata": {}
    }
   ],
   "source": [
    "model.most_similar(u'política')"
   ]
  },
  {
   "cell_type": "code",
   "metadata": {},
   "outputs": [],
   "source": [
    ""
   ]
  }
 ],
 "metadata": {
  "kernelspec": {
   "display_name": "Python 2",
   "language": "python",
   "name": "python2"
  },
  "language_info": {
   "codemirror_mode": {
    "name": "ipython",
    "version": 2.0
   },
   "file_extension": ".py",
   "mimetype": "text/x-python",
   "name": "python",
   "nbconvert_exporter": "python",
   "pygments_lexer": "ipython2",
   "version": "2.7.6"
  }
 },
 "nbformat": 4,
 "nbformat_minor": 0
}